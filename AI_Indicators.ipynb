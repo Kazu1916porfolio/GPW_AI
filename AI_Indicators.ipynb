{
  "nbformat": 4,
  "nbformat_minor": 0,
  "metadata": {
    "colab": {
      "provenance": []
    },
    "kernelspec": {
      "name": "python3",
      "display_name": "Python 3"
    },
    "language_info": {
      "name": "python"
    }
  },
  "cells": [
    {
      "cell_type": "code",
      "execution_count": 1,
      "metadata": {
        "colab": {
          "base_uri": "https://localhost:8080/"
        },
        "id": "GWZ3Flp4Hw-r",
        "outputId": "657b0419-98d9-4381-abb0-b2774c24a90a"
      },
      "outputs": [
        {
          "output_type": "stream",
          "name": "stdout",
          "text": [
            "       Unnamed: 0 symbol           okres Płynność bieżąca  \\\n",
            "0             275    PCO  2021/Q2(mar21)     (0.96, 1.18]   \n",
            "1             276    PCO             AKT     (0.96, 1.18]   \n",
            "2             615    GOV  2017/Q4(gru17)     (3.72, 7.29]   \n",
            "3             616    GOV  2018/Q1(mar18)     (3.72, 7.29]   \n",
            "4             617    GOV  2018/Q2(cze18)     (3.72, 7.29]   \n",
            "...           ...    ...             ...              ...   \n",
            "36894       16012    BST  2024/Q1(mar24)     (3.72, 7.29]   \n",
            "36895       16014    BST  2024/Q2(cze24)     (3.72, 7.29]   \n",
            "36896       39697    BST  2024/Q3(wrz24)     (3.72, 7.29]   \n",
            "36897      126333    BST  2024/Q4(gru24)     (3.72, 7.29]   \n",
            "36898      126334    BST             AKT     (3.72, 7.29]   \n",
            "\n",
            "      Płynność bieżącaproc Płynność bieżącaprocROK Płynność bieżącaprocROK2  \\\n",
            "0           (-0.0319, 0.0]          (-0.0473, 0.0]           (-0.0305, 0.0]   \n",
            "1           (-0.0319, 0.0]          (-0.0473, 0.0]           (-0.0305, 0.0]   \n",
            "2           (-0.0319, 0.0]          (-0.0473, 0.0]           (-0.0305, 0.0]   \n",
            "3            (0.0, 0.0172]          (-0.0473, 0.0]           (-0.0305, 0.0]   \n",
            "4        (-0.181, -0.0851]          (-0.0473, 0.0]           (-0.0305, 0.0]   \n",
            "...                    ...                     ...                      ...   \n",
            "36894     (0.0172, 0.0588]          (0.196, 0.411]           (0.219, 0.462]   \n",
            "36895       (-0.0319, 0.0]          (0.196, 0.411]          (0.0777, 0.219]   \n",
            "36896        (0.0, 0.0172]         (0.0863, 0.196]           (0.219, 0.462]   \n",
            "36897     (0.0172, 0.0588]        (0.0097, 0.0863]           (0.219, 0.462]   \n",
            "36898       (-0.0319, 0.0]          (-0.0473, 0.0]           (-0.0305, 0.0]   \n",
            "\n",
            "      Płynność podwyższona Płynność podwyższonaproc  \\\n",
            "0             (0.44, 0.73]           (-0.0978, 0.0]   \n",
            "1             (0.44, 0.73]           (-0.0978, 0.0]   \n",
            "2              (0.1, 0.17]           (-0.0978, 0.0]   \n",
            "3              (0.1, 0.17]           (-0.0978, 0.0]   \n",
            "4              (0.1, 0.17]          (0.0244, 0.167]   \n",
            "...                    ...                      ...   \n",
            "36894         (0.17, 0.27]          (0.0244, 0.167]   \n",
            "36895          (0.1, 0.17]           (-0.6, -0.286]   \n",
            "36896         (0.17, 0.27]           (0.167, 0.333]   \n",
            "36897         (0.17, 0.27]          (0.0244, 0.167]   \n",
            "36898         (0.17, 0.27]           (-0.0978, 0.0]   \n",
            "\n",
            "      Płynność podwyższonaprocROK  ... Zysk operacyjny na akcjęprocROK  \\\n",
            "0                   (-0.123, 0.0]  ...                   (-0.036, 0.0]   \n",
            "1                   (-0.123, 0.0]  ...                   (-0.036, 0.0]   \n",
            "2                   (-0.123, 0.0]  ...                   (-0.036, 0.0]   \n",
            "3                   (-0.123, 0.0]  ...                   (-0.036, 0.0]   \n",
            "4                   (-0.123, 0.0]  ...                   (-0.036, 0.0]   \n",
            "...                           ...  ...                             ...   \n",
            "36894               (0.239, 0.46]  ...                   (-1.5, -0.42]   \n",
            "36895               (-0.123, 0.0]  ...                  (0.118, 0.315]   \n",
            "36896            (-1.034, -0.452]  ...                   (-0.036, 0.0]   \n",
            "36897                (0.0, 0.239]  ...                  (0.118, 0.315]   \n",
            "36898               (-0.123, 0.0]  ...                   (-0.036, 0.0]   \n",
            "\n",
            "      Zysk operacyjny na akcjęprocROK2     Enterprise Value na akcję  \\\n",
            "0                        (-0.333, 0.0]  (-14.511999999999999, 0.284]   \n",
            "1                        (-0.333, 0.0]  (-14.511999999999999, 0.284]   \n",
            "2                        (-0.333, 0.0]                (0.284, 0.662]   \n",
            "3                        (-0.333, 0.0]  (-14.511999999999999, 0.284]   \n",
            "4                        (-0.333, 0.0]                (0.952, 1.031]   \n",
            "...                                ...                           ...   \n",
            "36894                   (0.111, 0.375]                 (1.676, 2.38]   \n",
            "36895                   (-1.6, -0.333]               (2.38, 315.515]   \n",
            "36896                   (-1.6, -0.333]               (2.38, 315.515]   \n",
            "36897                    (-0.333, 0.0]                 (1.676, 2.38]   \n",
            "36898                    (-0.333, 0.0]                 (1.676, 2.38]   \n",
            "\n",
            "      Enterprise Value na akcjęproc Enterprise Value na akcjęprocROK  \\\n",
            "0                     (-0.035, 0.0]                     (-0.05, 0.0]   \n",
            "1                     (-0.035, 0.0]                     (-0.05, 0.0]   \n",
            "2                     (-0.035, 0.0]                     (-0.05, 0.0]   \n",
            "3                   (-0.39, -0.192]                     (-0.05, 0.0]   \n",
            "4                     (0.14, 0.275]                     (-0.05, 0.0]   \n",
            "...                             ...                              ...   \n",
            "36894                 (-0.035, 0.0]                   (0.111, 0.247]   \n",
            "36895              (0.0097, 0.0651]                    (0.247, 0.45]   \n",
            "36896              (0.0097, 0.0651]                   (0.111, 0.247]   \n",
            "36897                (0.0651, 0.14]                   (0.111, 0.247]   \n",
            "36898                 (-0.035, 0.0]                     (-0.05, 0.0]   \n",
            "\n",
            "      Enterprise Value na akcjęprocROK2 kapitalizacja wzrost wzrost2 wzrost3  \n",
            "0                          (-0.21, 0.0]  2.932500e+10      0       0       1  \n",
            "1                          (-0.21, 0.0]  8.892375e+09      0       0       0  \n",
            "2                          (-0.21, 0.0]  2.472640e+07      1       1       0  \n",
            "3                          (-0.21, 0.0]  5.099820e+07      0       0       1  \n",
            "4                          (-0.21, 0.0]  7.727000e+06      0       0       0  \n",
            "...                                 ...           ...    ...     ...     ...  \n",
            "36894                    (0.112, 0.303]  4.992620e+08      0       0       0  \n",
            "36895                    (0.112, 0.303]  4.765683e+08      0       0       0  \n",
            "36896                    (0.112, 0.303]  4.711619e+08      1       1       0  \n",
            "36897                    (0.303, 0.542]  6.116044e+08      0       0       0  \n",
            "36898                      (-0.21, 0.0]  5.934828e+08      0       0       0  \n",
            "\n",
            "[36883 rows x 55 columns]\n"
          ]
        }
      ],
      "source": [
        "import pandas as pd\n",
        "import numpy as np\n",
        "\n",
        "df2=pd.read_excel('/content/drive/MyDrive/maszynowe16.xlsx', index_col=False)\n",
        "df2=df2[df2['kapitalizacja'] != 0]\n",
        "df2['wzrost'] = np.where(df2['symbol'].shift(-1) == df2['symbol'], (df2['kapitalizacja'].shift(-1)-df2['kapitalizacja'])/df2['kapitalizacja'].shift(-1), 0)\n",
        "df2['wzrost2'] = np.where(df2['wzrost'] > 0.05,1,0)\n",
        "df2['wzrost3'] = np.where(df2['wzrost'] < -0.10,1,0)\n",
        "df2['wzrost'] = np.where(df2['wzrost'] > 0.19,1,0)\n",
        "print(df2)\n"
      ]
    },
    {
      "cell_type": "code",
      "source": [
        "df=df2.drop(columns=['okres','symbol','Unnamed: 0','kapitalizacja','wzrost2','wzrost3'])\n",
        "for col in df.columns:\n",
        "\n",
        "  #print(x[col].value_counts())\n",
        "  df=pd.get_dummies(df, columns=[col],drop_first=True)\n",
        "print(df.shape)\n",
        "\n",
        "\n",
        "\n",
        "x= df.drop(columns=['wzrost_1'])\n",
        "x=x.loc[~(x==0).all(axis=1)]\n",
        "#print(x)"
      ],
      "metadata": {
        "colab": {
          "base_uri": "https://localhost:8080/"
        },
        "id": "YYGkMeETH-EZ",
        "outputId": "f3bd1588-a433-4628-ce59-7c0526d39e44"
      },
      "execution_count": 2,
      "outputs": [
        {
          "output_type": "stream",
          "name": "stdout",
          "text": [
            "(36883, 414)\n"
          ]
        }
      ]
    },
    {
      "cell_type": "code",
      "source": [
        "from keras.models import load_model\n",
        "\n",
        "model = load_model('/content/drive/MyDrive/moj_najlepszy_model_WK_spadek_03_02_2025.keras')\n",
        "\n",
        "model.summary()\n",
        "\n",
        "wagilist=model.get_weights()\n",
        "\n",
        "print(wagilist[0])\n",
        "\n",
        "# dfWagi=pd.DataFrame(wagilist[0])\n",
        "# dfWagi.to_excel('/content/drive/MyDrive/wagi.xlsx')\n",
        "\n",
        "# lll=dfAKT.drop(columns=['wzrost_1'])\n",
        "# lll=lll.columns\n",
        "# lll=pd.DataFrame(lll)\n",
        "# lll.to_excel('/content/drive/MyDrive/kolumny.xlsx')\n",
        "# print(lll)\n",
        "\n",
        "\n",
        "prediction = model.predict(df.drop(columns=['wzrost_1']))\n",
        "#prediction = model.predict(df.drop(columns=['wzrost_1']))\n",
        "#prediction = model.predict(x_test)\n",
        "\n",
        "symbolList=df2['symbol'].to_list()\n",
        "okresList=df2['okres'].to_list()\n",
        "listaIDX=df2.index.to_list()\n",
        "listaIDX=df2.index.to_list()\n",
        "c=0\n",
        "ilosc_prawd=0\n",
        "ilosc_prawd_5_proc=0\n",
        "minus_10_procc=0\n",
        "www=0\n",
        "ggg=0\n",
        "\n",
        "### raport ###\n",
        "\n",
        "DFraport=pd.DataFrame(df2['symbol'].unique() )\n",
        "DFraport=DFraport.set_index(0)\n",
        "\n",
        "for x in prediction:\n",
        "  symbol=df2.loc[listaIDX[c],'symbol']\n",
        "  if df2.loc[listaIDX[c],'okres'].find('wrz24') !=-1 or df2.loc[listaIDX[c],'okres'].find('paź24') !=-1:\n",
        "\n",
        "      DFraport.loc[symbol,'symbol']=df2.loc[listaIDX[c],'symbol']\n",
        "      DFraport.loc[symbol,'okresPoprzedni']= df2.loc[listaIDX[c],'okres']\n",
        "      DFraport.loc[symbol,'poprzedniKwartalSpadek']=  round(x[0],2)\n",
        "  if df2.loc[listaIDX[c],'okres'].find('gru24') !=-1 or df2.loc[listaIDX[c],'okres'].find('sty25') !=-1:\n",
        "      DFraport.loc[symbol,'symbol']=df2.loc[listaIDX[c],'symbol']\n",
        "      DFraport.loc[symbol,'okresAktualny']= df2.loc[listaIDX[c],'okres']\n",
        "      DFraport.loc[symbol,'AktualnyKwartalSpadek']=  round(x[0],2)\n",
        "  if df2.loc[listaIDX[c],'okres'].find('AKT') !=-1:\n",
        "      DFraport.loc[symbol,'symbol']=df2.loc[listaIDX[c],'symbol']\n",
        "      DFraport.loc[symbol,'okresAktualnyCENA']= df2.loc[listaIDX[c],'okres']\n",
        "      DFraport.loc[symbol,'AktualnyKwartalSpadekCENA']=  round(x[0],2)\n",
        "  #if str(round(x[0],2)) == '0.12':\n",
        "  if x[0] > 0.4:\n",
        "    www=www+1\n",
        "    if str(df2.loc[listaIDX[c],'wzrost']) == '1':\n",
        "      ilosc_prawd=ilosc_prawd+1\n",
        "    if str(df2.loc[listaIDX[c],'wzrost2']) == '1':\n",
        "      ilosc_prawd_5_proc=ilosc_prawd_5_proc+1\n",
        "    if str(df2.loc[listaIDX[c],'wzrost3']) == '1':\n",
        "      minus_10_procc=minus_10_procc+1\n",
        "  if str(df2.loc[listaIDX[c],'wzrost']) == '1':\n",
        "    ggg=ggg+1\n",
        "  c=c+1\n",
        "\n",
        "\n",
        "\n",
        "\n",
        "\n",
        "print(DFraport)\n",
        "DFraport.to_excel('/content/drive/MyDrive/raportSpadek.xlsx')\n",
        "print(ilosc_prawd)\n",
        "print(www)\n",
        "print('procent + 20%')\n",
        "print((ilosc_prawd/www)*100)\n",
        "print('procent + 5%')\n",
        "print((ilosc_prawd_5_proc/www)*100)\n",
        "print('procent <> -10%')\n",
        "print((minus_10_procc/www)*100)\n",
        "print('procent + 20% w test')\n",
        "print((ilosc_prawd/ggg)*100)\n"
      ],
      "metadata": {
        "colab": {
          "base_uri": "https://localhost:8080/",
          "height": 1000
        },
        "id": "KXu4u-QDIJ9W",
        "outputId": "4bb3b1cb-a474-4290-9a01-15feace66a7a"
      },
      "execution_count": 3,
      "outputs": [
        {
          "output_type": "display_data",
          "data": {
            "text/plain": [
              "\u001b[1mModel: \"sequential_8\"\u001b[0m\n"
            ],
            "text/html": [
              "<pre style=\"white-space:pre;overflow-x:auto;line-height:normal;font-family:Menlo,'DejaVu Sans Mono',consolas,'Courier New',monospace\"><span style=\"font-weight: bold\">Model: \"sequential_8\"</span>\n",
              "</pre>\n"
            ]
          },
          "metadata": {}
        },
        {
          "output_type": "display_data",
          "data": {
            "text/plain": [
              "┏━━━━━━━━━━━━━━━━━━━━━━━━━━━━━━━━━━━━━━┳━━━━━━━━━━━━━━━━━━━━━━━━━━━━━┳━━━━━━━━━━━━━━━━━┓\n",
              "┃\u001b[1m \u001b[0m\u001b[1mLayer (type)                        \u001b[0m\u001b[1m \u001b[0m┃\u001b[1m \u001b[0m\u001b[1mOutput Shape               \u001b[0m\u001b[1m \u001b[0m┃\u001b[1m \u001b[0m\u001b[1m        Param #\u001b[0m\u001b[1m \u001b[0m┃\n",
              "┡━━━━━━━━━━━━━━━━━━━━━━━━━━━━━━━━━━━━━━╇━━━━━━━━━━━━━━━━━━━━━━━━━━━━━╇━━━━━━━━━━━━━━━━━┩\n",
              "│ dense_16 (\u001b[38;5;33mDense\u001b[0m)                     │ (\u001b[38;5;45mNone\u001b[0m, \u001b[38;5;34m512\u001b[0m)                 │         \u001b[38;5;34m211,968\u001b[0m │\n",
              "├──────────────────────────────────────┼─────────────────────────────┼─────────────────┤\n",
              "│ dropout_8 (\u001b[38;5;33mDropout\u001b[0m)                  │ (\u001b[38;5;45mNone\u001b[0m, \u001b[38;5;34m512\u001b[0m)                 │               \u001b[38;5;34m0\u001b[0m │\n",
              "├──────────────────────────────────────┼─────────────────────────────┼─────────────────┤\n",
              "│ dense_17 (\u001b[38;5;33mDense\u001b[0m)                     │ (\u001b[38;5;45mNone\u001b[0m, \u001b[38;5;34m1\u001b[0m)                   │             \u001b[38;5;34m513\u001b[0m │\n",
              "└──────────────────────────────────────┴─────────────────────────────┴─────────────────┘\n"
            ],
            "text/html": [
              "<pre style=\"white-space:pre;overflow-x:auto;line-height:normal;font-family:Menlo,'DejaVu Sans Mono',consolas,'Courier New',monospace\">┏━━━━━━━━━━━━━━━━━━━━━━━━━━━━━━━━━━━━━━┳━━━━━━━━━━━━━━━━━━━━━━━━━━━━━┳━━━━━━━━━━━━━━━━━┓\n",
              "┃<span style=\"font-weight: bold\"> Layer (type)                         </span>┃<span style=\"font-weight: bold\"> Output Shape                </span>┃<span style=\"font-weight: bold\">         Param # </span>┃\n",
              "┡━━━━━━━━━━━━━━━━━━━━━━━━━━━━━━━━━━━━━━╇━━━━━━━━━━━━━━━━━━━━━━━━━━━━━╇━━━━━━━━━━━━━━━━━┩\n",
              "│ dense_16 (<span style=\"color: #0087ff; text-decoration-color: #0087ff\">Dense</span>)                     │ (<span style=\"color: #00d7ff; text-decoration-color: #00d7ff\">None</span>, <span style=\"color: #00af00; text-decoration-color: #00af00\">512</span>)                 │         <span style=\"color: #00af00; text-decoration-color: #00af00\">211,968</span> │\n",
              "├──────────────────────────────────────┼─────────────────────────────┼─────────────────┤\n",
              "│ dropout_8 (<span style=\"color: #0087ff; text-decoration-color: #0087ff\">Dropout</span>)                  │ (<span style=\"color: #00d7ff; text-decoration-color: #00d7ff\">None</span>, <span style=\"color: #00af00; text-decoration-color: #00af00\">512</span>)                 │               <span style=\"color: #00af00; text-decoration-color: #00af00\">0</span> │\n",
              "├──────────────────────────────────────┼─────────────────────────────┼─────────────────┤\n",
              "│ dense_17 (<span style=\"color: #0087ff; text-decoration-color: #0087ff\">Dense</span>)                     │ (<span style=\"color: #00d7ff; text-decoration-color: #00d7ff\">None</span>, <span style=\"color: #00af00; text-decoration-color: #00af00\">1</span>)                   │             <span style=\"color: #00af00; text-decoration-color: #00af00\">513</span> │\n",
              "└──────────────────────────────────────┴─────────────────────────────┴─────────────────┘\n",
              "</pre>\n"
            ]
          },
          "metadata": {}
        },
        {
          "output_type": "display_data",
          "data": {
            "text/plain": [
              "\u001b[1m Total params: \u001b[0m\u001b[38;5;34m637,445\u001b[0m (2.43 MB)\n"
            ],
            "text/html": [
              "<pre style=\"white-space:pre;overflow-x:auto;line-height:normal;font-family:Menlo,'DejaVu Sans Mono',consolas,'Courier New',monospace\"><span style=\"font-weight: bold\"> Total params: </span><span style=\"color: #00af00; text-decoration-color: #00af00\">637,445</span> (2.43 MB)\n",
              "</pre>\n"
            ]
          },
          "metadata": {}
        },
        {
          "output_type": "display_data",
          "data": {
            "text/plain": [
              "\u001b[1m Trainable params: \u001b[0m\u001b[38;5;34m212,481\u001b[0m (830.00 KB)\n"
            ],
            "text/html": [
              "<pre style=\"white-space:pre;overflow-x:auto;line-height:normal;font-family:Menlo,'DejaVu Sans Mono',consolas,'Courier New',monospace\"><span style=\"font-weight: bold\"> Trainable params: </span><span style=\"color: #00af00; text-decoration-color: #00af00\">212,481</span> (830.00 KB)\n",
              "</pre>\n"
            ]
          },
          "metadata": {}
        },
        {
          "output_type": "display_data",
          "data": {
            "text/plain": [
              "\u001b[1m Non-trainable params: \u001b[0m\u001b[38;5;34m0\u001b[0m (0.00 B)\n"
            ],
            "text/html": [
              "<pre style=\"white-space:pre;overflow-x:auto;line-height:normal;font-family:Menlo,'DejaVu Sans Mono',consolas,'Courier New',monospace\"><span style=\"font-weight: bold\"> Non-trainable params: </span><span style=\"color: #00af00; text-decoration-color: #00af00\">0</span> (0.00 B)\n",
              "</pre>\n"
            ]
          },
          "metadata": {}
        },
        {
          "output_type": "display_data",
          "data": {
            "text/plain": [
              "\u001b[1m Optimizer params: \u001b[0m\u001b[38;5;34m424,964\u001b[0m (1.62 MB)\n"
            ],
            "text/html": [
              "<pre style=\"white-space:pre;overflow-x:auto;line-height:normal;font-family:Menlo,'DejaVu Sans Mono',consolas,'Courier New',monospace\"><span style=\"font-weight: bold\"> Optimizer params: </span><span style=\"color: #00af00; text-decoration-color: #00af00\">424,964</span> (1.62 MB)\n",
              "</pre>\n"
            ]
          },
          "metadata": {}
        },
        {
          "output_type": "stream",
          "name": "stdout",
          "text": [
            "[[-0.05329704  0.04061877 -0.00655272 ... -0.06718449  0.11859459\n",
            "   0.0192037 ]\n",
            " [-0.04412978 -0.13024366  0.06759124 ... -0.07326037 -0.04323988\n",
            "   0.04299246]\n",
            " [ 0.02363718 -0.00521315 -0.0445457  ...  0.02270664 -0.0711261\n",
            "  -0.08769112]\n",
            " ...\n",
            " [ 0.05092398 -0.00030396  0.0587859  ...  0.1043551  -0.08191348\n",
            "  -0.06569224]\n",
            " [ 0.0325506  -0.17899942  0.00775971 ... -0.04569896 -0.00380472\n",
            "   0.02679832]\n",
            " [-0.03196958  0.07518066  0.08933634 ... -0.13667253  0.0439951\n",
            "   0.04197967]]\n",
            "\u001b[1m1153/1153\u001b[0m \u001b[32m━━━━━━━━━━━━━━━━━━━━\u001b[0m\u001b[37m\u001b[0m \u001b[1m2s\u001b[0m 2ms/step\n",
            "    symbol okresAktualnyCENA  AktualnyKwartalSpadekCENA  okresPoprzedni  \\\n",
            "0                                                                         \n",
            "PCO    PCO               AKT                       0.31             NaN   \n",
            "GOV    GOV               AKT                       0.18             NaN   \n",
            "MGT    MGT               AKT                       0.13  2024/Q3(wrz24)   \n",
            "ACG    ACG               AKT                       0.08  2024/Q3(wrz24)   \n",
            "ATS    ATS               AKT                       0.16             NaN   \n",
            "..     ...               ...                        ...             ...   \n",
            "ERB    ERB               AKT                       0.32  2024/Q3(wrz24)   \n",
            "AGO    AGO               AKT                       0.29  2024/Q3(wrz24)   \n",
            "OND    OND               AKT                       0.33  2024/Q3(wrz24)   \n",
            "ATD    ATD               AKT                       0.29  2024/Q3(wrz24)   \n",
            "BST    BST               AKT                       0.19  2024/Q3(wrz24)   \n",
            "\n",
            "     poprzedniKwartalSpadek   okresAktualny  AktualnyKwartalSpadek  \n",
            "0                                                                   \n",
            "PCO                     NaN             NaN                    NaN  \n",
            "GOV                     NaN             NaN                    NaN  \n",
            "MGT                    0.12             NaN                    NaN  \n",
            "ACG                    0.06             NaN                    NaN  \n",
            "ATS                     NaN             NaN                    NaN  \n",
            "..                      ...             ...                    ...  \n",
            "ERB                    0.29  2024/Q4(gru24)                   0.23  \n",
            "AGO                    0.15  2024/Q4(gru24)                   0.07  \n",
            "OND                    0.28  2024/Q4(gru24)                   0.33  \n",
            "ATD                    0.22  2024/Q4(gru24)                   0.16  \n",
            "BST                    0.04  2024/Q4(gru24)                   0.03  \n",
            "\n",
            "[763 rows x 7 columns]\n",
            "290\n",
            "4268\n",
            "procent + 20%\n",
            "6.794751640112465\n",
            "procent + 5%\n",
            "14.245548266166825\n",
            "procent <> -10%\n",
            "67.10402999062794\n",
            "procent + 20% w test\n",
            "4.823685961410512\n"
          ]
        }
      ]
    },
    {
      "cell_type": "code",
      "source": [
        "from keras.models import load_model\n",
        "\n",
        "model = load_model('/content/drive/MyDrive/moj_najlepszy_model_wzrost_WK_03_02_2025.keras')\n",
        "\n",
        "model.summary()\n",
        "\n",
        "wagilist=model.get_weights()\n",
        "\n",
        "print(wagilist[0])\n",
        "\n",
        "dfWagi=pd.DataFrame(wagilist[0])\n",
        "dfWagi['srednia']=dfWagi.mean(axis=1)\n",
        "dfWagi=dfWagi.sort_values(by='srednia',ascending=False)\n",
        "#dfWagi.to_excel('/content/drive/MyDrive/wagiMAKRO_EKO.xlsx')\n",
        "\n",
        "lll=df.drop(columns=['wzrost_1'])\n",
        "lll=lll.columns\n",
        "lll=pd.DataFrame(lll)\n",
        "#lll.to_excel('/content/drive/MyDrive/kolumnyMAKRO_EKO.xlsx')\n",
        "print(lll)\n",
        "\n",
        "dfWagi['kolumny']=lll\n",
        "#dfWagi.to_excel('/content/drive/MyDrive/wagiMAKRO_EKO.xlsx')\n",
        "lll=df.drop(columns=['wzrost_1'])\n",
        "lll=lll.columns\n",
        "lll=pd.DataFrame(lll)\n",
        "#lll.to_excel('/content/drive/MyDrive/kolumnyMAKRO_EKO.xlsx')\n",
        "print(lll)\n",
        "\n",
        "dfWagi['kolumny']=lll\n",
        "dfWagi=dfWagi[['kolumny','srednia']]\n",
        "dfWagi.to_excel('/content/drive/MyDrive/wagiMAKRO_EKO.xlsx')\n",
        "\n",
        "\n",
        "prediction = model.predict(df.drop(columns=['wzrost_1']))\n",
        "#prediction = model.predict(df.drop(columns=['wzrost_1']))\n",
        "#prediction = model.predict(x_test)\n",
        "\n",
        "symbolList=df2['symbol'].to_list()\n",
        "okresList=df2['okres'].to_list()\n",
        "listaIDX=df2.index.to_list()\n",
        "listaIDX=df2.index.to_list()\n",
        "c=0\n",
        "ilosc_prawd=0\n",
        "ilosc_prawd_5_proc=0\n",
        "minus_10_procc=0\n",
        "www=0\n",
        "ggg=0\n",
        "\n",
        "### raport ###\n",
        "\n",
        "\n",
        "for x in prediction:\n",
        "  symbol=df2.loc[listaIDX[c],'symbol']\n",
        "  if df2.loc[listaIDX[c],'okres'].find('wrz24') !=-1 or df2.loc[listaIDX[c],'okres'].find('paź24') !=-1:\n",
        "\n",
        "      DFraport.loc[symbol,'symbol']=df2.loc[listaIDX[c],'symbol']\n",
        "      DFraport.loc[symbol,'okresPoprzedni']= df2.loc[listaIDX[c],'okres']\n",
        "      DFraport.loc[symbol,'poprzedniKwartalWzrost']=  round(x[0],2)\n",
        "  if df2.loc[listaIDX[c],'okres'].find('gru24') !=-1 or df2.loc[listaIDX[c],'okres'].find('sty25') !=-1:\n",
        "      DFraport.loc[symbol,'symbol']=df2.loc[listaIDX[c],'symbol']\n",
        "      DFraport.loc[symbol,'okresAktualny']= df2.loc[listaIDX[c],'okres']\n",
        "      DFraport.loc[symbol,'AktualnyKwartalWzrost']=  round(x[0],2)\n",
        "\n",
        "  if df2.loc[listaIDX[c],'okres'].find('AKT') !=-1:\n",
        "      DFraport.loc[symbol,'symbol']=df2.loc[listaIDX[c],'symbol']\n",
        "      DFraport.loc[symbol,'okresAktualnyCENA']= df2.loc[listaIDX[c],'okres']\n",
        "      DFraport.loc[symbol,'AktualnyKwartalWzrostCENA']=  round(x[0],2)\n",
        "  #if str(round(x[0],2)) == '0.12':\n",
        "  if x[0] > 0.4:\n",
        "    if (df2.loc[listaIDX[c],'okres'].find('wrz24') !=-1 or df2.loc[listaIDX[c],'okres'].find('paź24') !=-1):\n",
        "      print(df2.loc[listaIDX[c],'symbol'])\n",
        "      print(df2.loc[listaIDX[c],'okres'])\n",
        "      print(round(x[0],2))\n",
        "    www=www+1\n",
        "    if str(df2.loc[listaIDX[c],'wzrost']) == '1':\n",
        "      ilosc_prawd=ilosc_prawd+1\n",
        "    if str(df2.loc[listaIDX[c],'wzrost2']) == '1':\n",
        "      ilosc_prawd_5_proc=ilosc_prawd_5_proc+1\n",
        "    if str(df2.loc[listaIDX[c],'wzrost3']) == '1':\n",
        "      minus_10_procc=minus_10_procc+1\n",
        "  if str(df2.loc[listaIDX[c],'wzrost']) == '1':\n",
        "    ggg=ggg+1\n",
        "  c=c+1\n",
        "\n",
        "\n",
        "\n",
        "\n",
        "\n",
        "print(DFraport)\n",
        "DFraport.to_excel('/content/drive/MyDrive/raportSpadek.xlsx')\n",
        "print(ilosc_prawd)\n",
        "print(www)\n",
        "print('procent + 20%')\n",
        "print((ilosc_prawd/www)*100)\n",
        "print('procent + 5%')\n",
        "print((ilosc_prawd_5_proc/www)*100)\n",
        "print('procent <> -10%')\n",
        "print((minus_10_procc/www)*100)\n",
        "print('procent + 20% w test')\n",
        "print((ilosc_prawd/ggg)*100)"
      ],
      "metadata": {
        "id": "bF_EGsHBILDJ",
        "colab": {
          "base_uri": "https://localhost:8080/",
          "height": 1000
        },
        "outputId": "065dee1b-18c5-4b10-e5ca-57ac3e8464a2"
      },
      "execution_count": 4,
      "outputs": [
        {
          "output_type": "display_data",
          "data": {
            "text/plain": [
              "\u001b[1mModel: \"sequential_51\"\u001b[0m\n"
            ],
            "text/html": [
              "<pre style=\"white-space:pre;overflow-x:auto;line-height:normal;font-family:Menlo,'DejaVu Sans Mono',consolas,'Courier New',monospace\"><span style=\"font-weight: bold\">Model: \"sequential_51\"</span>\n",
              "</pre>\n"
            ]
          },
          "metadata": {}
        },
        {
          "output_type": "display_data",
          "data": {
            "text/plain": [
              "┏━━━━━━━━━━━━━━━━━━━━━━━━━━━━━━━━━━━━━━┳━━━━━━━━━━━━━━━━━━━━━━━━━━━━━┳━━━━━━━━━━━━━━━━━┓\n",
              "┃\u001b[1m \u001b[0m\u001b[1mLayer (type)                        \u001b[0m\u001b[1m \u001b[0m┃\u001b[1m \u001b[0m\u001b[1mOutput Shape               \u001b[0m\u001b[1m \u001b[0m┃\u001b[1m \u001b[0m\u001b[1m        Param #\u001b[0m\u001b[1m \u001b[0m┃\n",
              "┡━━━━━━━━━━━━━━━━━━━━━━━━━━━━━━━━━━━━━━╇━━━━━━━━━━━━━━━━━━━━━━━━━━━━━╇━━━━━━━━━━━━━━━━━┩\n",
              "│ dense_102 (\u001b[38;5;33mDense\u001b[0m)                    │ (\u001b[38;5;45mNone\u001b[0m, \u001b[38;5;34m2048\u001b[0m)                │         \u001b[38;5;34m847,872\u001b[0m │\n",
              "├──────────────────────────────────────┼─────────────────────────────┼─────────────────┤\n",
              "│ dropout_51 (\u001b[38;5;33mDropout\u001b[0m)                 │ (\u001b[38;5;45mNone\u001b[0m, \u001b[38;5;34m2048\u001b[0m)                │               \u001b[38;5;34m0\u001b[0m │\n",
              "├──────────────────────────────────────┼─────────────────────────────┼─────────────────┤\n",
              "│ dense_103 (\u001b[38;5;33mDense\u001b[0m)                    │ (\u001b[38;5;45mNone\u001b[0m, \u001b[38;5;34m1\u001b[0m)                   │           \u001b[38;5;34m2,049\u001b[0m │\n",
              "└──────────────────────────────────────┴─────────────────────────────┴─────────────────┘\n"
            ],
            "text/html": [
              "<pre style=\"white-space:pre;overflow-x:auto;line-height:normal;font-family:Menlo,'DejaVu Sans Mono',consolas,'Courier New',monospace\">┏━━━━━━━━━━━━━━━━━━━━━━━━━━━━━━━━━━━━━━┳━━━━━━━━━━━━━━━━━━━━━━━━━━━━━┳━━━━━━━━━━━━━━━━━┓\n",
              "┃<span style=\"font-weight: bold\"> Layer (type)                         </span>┃<span style=\"font-weight: bold\"> Output Shape                </span>┃<span style=\"font-weight: bold\">         Param # </span>┃\n",
              "┡━━━━━━━━━━━━━━━━━━━━━━━━━━━━━━━━━━━━━━╇━━━━━━━━━━━━━━━━━━━━━━━━━━━━━╇━━━━━━━━━━━━━━━━━┩\n",
              "│ dense_102 (<span style=\"color: #0087ff; text-decoration-color: #0087ff\">Dense</span>)                    │ (<span style=\"color: #00d7ff; text-decoration-color: #00d7ff\">None</span>, <span style=\"color: #00af00; text-decoration-color: #00af00\">2048</span>)                │         <span style=\"color: #00af00; text-decoration-color: #00af00\">847,872</span> │\n",
              "├──────────────────────────────────────┼─────────────────────────────┼─────────────────┤\n",
              "│ dropout_51 (<span style=\"color: #0087ff; text-decoration-color: #0087ff\">Dropout</span>)                 │ (<span style=\"color: #00d7ff; text-decoration-color: #00d7ff\">None</span>, <span style=\"color: #00af00; text-decoration-color: #00af00\">2048</span>)                │               <span style=\"color: #00af00; text-decoration-color: #00af00\">0</span> │\n",
              "├──────────────────────────────────────┼─────────────────────────────┼─────────────────┤\n",
              "│ dense_103 (<span style=\"color: #0087ff; text-decoration-color: #0087ff\">Dense</span>)                    │ (<span style=\"color: #00d7ff; text-decoration-color: #00d7ff\">None</span>, <span style=\"color: #00af00; text-decoration-color: #00af00\">1</span>)                   │           <span style=\"color: #00af00; text-decoration-color: #00af00\">2,049</span> │\n",
              "└──────────────────────────────────────┴─────────────────────────────┴─────────────────┘\n",
              "</pre>\n"
            ]
          },
          "metadata": {}
        },
        {
          "output_type": "display_data",
          "data": {
            "text/plain": [
              "\u001b[1m Total params: \u001b[0m\u001b[38;5;34m2,549,765\u001b[0m (9.73 MB)\n"
            ],
            "text/html": [
              "<pre style=\"white-space:pre;overflow-x:auto;line-height:normal;font-family:Menlo,'DejaVu Sans Mono',consolas,'Courier New',monospace\"><span style=\"font-weight: bold\"> Total params: </span><span style=\"color: #00af00; text-decoration-color: #00af00\">2,549,765</span> (9.73 MB)\n",
              "</pre>\n"
            ]
          },
          "metadata": {}
        },
        {
          "output_type": "display_data",
          "data": {
            "text/plain": [
              "\u001b[1m Trainable params: \u001b[0m\u001b[38;5;34m849,921\u001b[0m (3.24 MB)\n"
            ],
            "text/html": [
              "<pre style=\"white-space:pre;overflow-x:auto;line-height:normal;font-family:Menlo,'DejaVu Sans Mono',consolas,'Courier New',monospace\"><span style=\"font-weight: bold\"> Trainable params: </span><span style=\"color: #00af00; text-decoration-color: #00af00\">849,921</span> (3.24 MB)\n",
              "</pre>\n"
            ]
          },
          "metadata": {}
        },
        {
          "output_type": "display_data",
          "data": {
            "text/plain": [
              "\u001b[1m Non-trainable params: \u001b[0m\u001b[38;5;34m0\u001b[0m (0.00 B)\n"
            ],
            "text/html": [
              "<pre style=\"white-space:pre;overflow-x:auto;line-height:normal;font-family:Menlo,'DejaVu Sans Mono',consolas,'Courier New',monospace\"><span style=\"font-weight: bold\"> Non-trainable params: </span><span style=\"color: #00af00; text-decoration-color: #00af00\">0</span> (0.00 B)\n",
              "</pre>\n"
            ]
          },
          "metadata": {}
        },
        {
          "output_type": "display_data",
          "data": {
            "text/plain": [
              "\u001b[1m Optimizer params: \u001b[0m\u001b[38;5;34m1,699,844\u001b[0m (6.48 MB)\n"
            ],
            "text/html": [
              "<pre style=\"white-space:pre;overflow-x:auto;line-height:normal;font-family:Menlo,'DejaVu Sans Mono',consolas,'Courier New',monospace\"><span style=\"font-weight: bold\"> Optimizer params: </span><span style=\"color: #00af00; text-decoration-color: #00af00\">1,699,844</span> (6.48 MB)\n",
              "</pre>\n"
            ]
          },
          "metadata": {}
        },
        {
          "output_type": "stream",
          "name": "stdout",
          "text": [
            "[[-0.03787415  0.04758457  0.04652132 ...  0.02754699 -0.00379598\n",
            "   0.01021482]\n",
            " [ 0.02347274  0.00906931 -0.05055351 ...  0.03148712  0.02394423\n",
            "  -0.04361128]\n",
            " [-0.00145791  0.02875619  0.00368124 ...  0.04417746 -0.04173401\n",
            "  -0.02269841]\n",
            " ...\n",
            " [-0.03907822 -0.0099119   0.01906909 ... -0.02862317  0.01257079\n",
            "  -0.01719283]\n",
            " [ 0.01240403 -0.05468609  0.03653768 ...  0.0334177   0.01395216\n",
            "  -0.04721389]\n",
            " [ 0.04094205  0.00725476 -0.05240742 ... -0.0325441  -0.00492632\n",
            "  -0.005977  ]]\n",
            "                                                    0\n",
            "0                       Płynność bieżąca_(0.57, 0.96]\n",
            "1                       Płynność bieżąca_(0.96, 1.18]\n",
            "2                       Płynność bieżąca_(1.18, 1.38]\n",
            "3                       Płynność bieżąca_(1.38, 1.62]\n",
            "4                       Płynność bieżąca_(1.62, 1.97]\n",
            "..                                                ...\n",
            "408  Enterprise Value na akcjęprocROK2_(-inf, -1.375]\n",
            "409    Enterprise Value na akcjęprocROK2_(0.0, 0.112]\n",
            "410  Enterprise Value na akcjęprocROK2_(0.112, 0.303]\n",
            "411  Enterprise Value na akcjęprocROK2_(0.303, 0.542]\n",
            "412    Enterprise Value na akcjęprocROK2_(0.542, inf]\n",
            "\n",
            "[413 rows x 1 columns]\n",
            "                                                    0\n",
            "0                       Płynność bieżąca_(0.57, 0.96]\n",
            "1                       Płynność bieżąca_(0.96, 1.18]\n",
            "2                       Płynność bieżąca_(1.18, 1.38]\n",
            "3                       Płynność bieżąca_(1.38, 1.62]\n",
            "4                       Płynność bieżąca_(1.62, 1.97]\n",
            "..                                                ...\n",
            "408  Enterprise Value na akcjęprocROK2_(-inf, -1.375]\n",
            "409    Enterprise Value na akcjęprocROK2_(0.0, 0.112]\n",
            "410  Enterprise Value na akcjęprocROK2_(0.112, 0.303]\n",
            "411  Enterprise Value na akcjęprocROK2_(0.303, 0.542]\n",
            "412    Enterprise Value na akcjęprocROK2_(0.542, inf]\n",
            "\n",
            "[413 rows x 1 columns]\n",
            "\u001b[1m1153/1153\u001b[0m \u001b[32m━━━━━━━━━━━━━━━━━━━━\u001b[0m\u001b[37m\u001b[0m \u001b[1m4s\u001b[0m 4ms/step\n",
            "KGN\n",
            "2024/Q3(wrz24)\n",
            "0.54\n",
            "VIV\n",
            "2024/Q3(wrz24)\n",
            "0.41\n",
            "CCC\n",
            "2024/Q3(wrz24)\n",
            "0.41\n",
            "NTC\n",
            "2024/Q3(wrz24)\n",
            "0.43\n",
            "PRA\n",
            "2024/Q3(wrz24)\n",
            "0.47\n",
            "AME\n",
            "2024/Q3(wrz24)\n",
            "0.46\n",
            "DIV\n",
            "2024/Q3(wrz24)\n",
            "0.43\n",
            "    symbol okresAktualnyCENA  AktualnyKwartalSpadekCENA  okresPoprzedni  \\\n",
            "0                                                                         \n",
            "PCO    PCO               AKT                       0.31             NaN   \n",
            "GOV    GOV               AKT                       0.18             NaN   \n",
            "MGT    MGT               AKT                       0.13  2024/Q3(wrz24)   \n",
            "ACG    ACG               AKT                       0.08  2024/Q3(wrz24)   \n",
            "ATS    ATS               AKT                       0.16             NaN   \n",
            "..     ...               ...                        ...             ...   \n",
            "ERB    ERB               AKT                       0.32  2024/Q3(wrz24)   \n",
            "AGO    AGO               AKT                       0.29  2024/Q3(wrz24)   \n",
            "OND    OND               AKT                       0.33  2024/Q3(wrz24)   \n",
            "ATD    ATD               AKT                       0.29  2024/Q3(wrz24)   \n",
            "BST    BST               AKT                       0.19  2024/Q3(wrz24)   \n",
            "\n",
            "     poprzedniKwartalSpadek   okresAktualny  AktualnyKwartalSpadek  \\\n",
            "0                                                                    \n",
            "PCO                     NaN             NaN                    NaN   \n",
            "GOV                     NaN             NaN                    NaN   \n",
            "MGT                    0.12             NaN                    NaN   \n",
            "ACG                    0.06             NaN                    NaN   \n",
            "ATS                     NaN             NaN                    NaN   \n",
            "..                      ...             ...                    ...   \n",
            "ERB                    0.29  2024/Q4(gru24)                   0.23   \n",
            "AGO                    0.15  2024/Q4(gru24)                   0.07   \n",
            "OND                    0.28  2024/Q4(gru24)                   0.33   \n",
            "ATD                    0.22  2024/Q4(gru24)                   0.16   \n",
            "BST                    0.04  2024/Q4(gru24)                   0.03   \n",
            "\n",
            "     AktualnyKwartalWzrostCENA  poprzedniKwartalWzrost  AktualnyKwartalWzrost  \n",
            "0                                                                              \n",
            "PCO                       0.24                     NaN                    NaN  \n",
            "GOV                       0.20                     NaN                    NaN  \n",
            "MGT                       0.04                    0.04                    NaN  \n",
            "ACG                       0.07                    0.12                    NaN  \n",
            "ATS                       0.48                     NaN                    NaN  \n",
            "..                         ...                     ...                    ...  \n",
            "ERB                       0.39                    0.27                   0.05  \n",
            "AGO                       0.49                    0.06                   0.17  \n",
            "OND                       0.21                    0.01                   0.11  \n",
            "ATD                       0.37                    0.04                   0.11  \n",
            "BST                       0.46                    0.14                   0.33  \n",
            "\n",
            "[763 rows x 10 columns]\n",
            "1706\n",
            "3024\n",
            "procent + 20%\n",
            "56.41534391534392\n",
            "procent + 5%\n",
            "69.11375661375662\n",
            "procent <> -10%\n",
            "14.054232804232806\n",
            "procent + 20% w test\n",
            "28.37658017298736\n"
          ]
        }
      ]
    }
  ]
}